{
 "cells": [
  {
   "cell_type": "code",
   "execution_count": 15,
   "metadata": {
    "scrolled": true
   },
   "outputs": [
    {
     "name": "stdout",
     "output_type": "stream",
     "text": [
      "The autoreload extension is already loaded. To reload it, use:\n",
      "  %reload_ext autoreload\n"
     ]
    }
   ],
   "source": [
    "import numpy as np\n",
    "import pandas as pd\n",
    "from matplotlib import pyplot as plt\n",
    "from sklearn import linear_model\n",
    "from sklearn.model_selection import train_test_split\n",
    "import houseprice_functions as hpf\n",
    "from sklearn.linear_model import ElasticNetCV, ElasticNet\n",
    "from sklearn import metrics\n",
    "from sklearn import impute\n",
    "from sklearn.preprocessing import power_transform\n",
    "%load_ext autoreload\n",
    "%autoreload 2"
   ]
  },
  {
   "cell_type": "code",
   "execution_count": 16,
   "metadata": {
    "scrolled": true
   },
   "outputs": [
    {
     "name": "stderr",
     "output_type": "stream",
     "text": [
      "C:\\Users\\Micha\\Downloads\\Anaconda\\lib\\site-packages\\sklearn\\preprocessing\\_data.py:3116: FutureWarning: The default value of 'method' will change from 'box-cox' to 'yeo-johnson' in version 0.23. Set the 'method' argument explicitly to silence this warning in the meantime.\n",
      "  FutureWarning)\n"
     ]
    }
   ],
   "source": [
    "cleaned_hp = pd.read_csv('data/cleaned_houseprice.csv')\n",
    "HousePrices = pd.read_csv('data/train.csv')\n",
    "cleaned_hp_test = pd.read_csv('data/cleaned_houseprice_test.csv')\n",
    "y = HousePrices[[\"Id\",'SalePrice']]\n",
    "\n",
    "x_y = cleaned_hp.merge(y,how = \"inner\",on = \"Id\")\n",
    "y_train = np.log(x_y['SalePrice'])\n",
    "y_train = power_transform(x_y[['SalePrice']])\n",
    "X_train = x_y.drop([\"Id\",\"SalePrice\",\"Ext_ImStucc\", \"Ext_Stone\",\"House_2.5Fin\"],axis = 1)"
   ]
  },
  {
   "cell_type": "code",
   "execution_count": null,
   "metadata": {},
   "outputs": [],
   "source": [
    "base_features = cleaned_hp[['TotalSF','GarageArea','KitchenQual','TotalBath','OverallScore','Ext_Score','YearRemodAdd','FireplaceQu','Basm_Quality']]\n",
    "X_train = base_features"
   ]
  },
  {
   "cell_type": "code",
   "execution_count": 17,
   "metadata": {},
   "outputs": [],
   "source": [
    "#outliers\n",
    "train_outliers = hpf.outlier_selecter(cleaned_hp,cleaned_hp,num_sd = 4,min_unique = 20, drop_zeros = True)\n",
    "test_range = hpf.outlier_selecter(cleaned_hp,cleaned_hp,num_sd = 4,min_unique = 20, drop_zeros = True,for_test = True)"
   ]
  },
  {
   "cell_type": "markdown",
   "metadata": {},
   "source": [
    "# Standardization"
   ]
  },
  {
   "cell_type": "code",
   "execution_count": 11,
   "metadata": {
    "scrolled": false
   },
   "outputs": [
    {
     "name": "stderr",
     "output_type": "stream",
     "text": [
      "C:\\Users\\Micha\\Downloads\\Anaconda\\lib\\site-packages\\numpy\\core\\_methods.py:195: RuntimeWarning: overflow encountered in multiply\n",
      "  x = um.multiply(x, x, out=x)\n"
     ]
    }
   ],
   "source": [
    "columns_ = cleaned_hp.columns\n",
    "for col in cleaned_hp.columns:\n",
    "    if (cleaned_hp[col].nunique() > 20) and (col != \"Id\"):\n",
    "        cleaned_hp[col] = cleaned_hp[col] + 1\n",
    "        #print(cleaned_hp[col].reshape(-1,1))\n",
    "        box_cox = power_transform(cleaned_hp[[col]], method='box-cox')\n",
    "        cleaned_hp[[col]] = box_cox\n",
    "\n",
    "X_train = cleaned_hp.drop([\"Id\",\"Ext_ImStucc\", \"Ext_Stone\",\"House_2.5Fin\"],axis = 1)"
   ]
  },
  {
   "cell_type": "code",
   "execution_count": 12,
   "metadata": {},
   "outputs": [
    {
     "data": {
      "text/html": [
       "<div>\n",
       "<style scoped>\n",
       "    .dataframe tbody tr th:only-of-type {\n",
       "        vertical-align: middle;\n",
       "    }\n",
       "\n",
       "    .dataframe tbody tr th {\n",
       "        vertical-align: top;\n",
       "    }\n",
       "\n",
       "    .dataframe thead th {\n",
       "        text-align: right;\n",
       "    }\n",
       "</style>\n",
       "<table border=\"1\" class=\"dataframe\">\n",
       "  <thead>\n",
       "    <tr style=\"text-align: right;\">\n",
       "      <th></th>\n",
       "      <th>CentralAir</th>\n",
       "      <th>HeatingQC</th>\n",
       "      <th>garage_score</th>\n",
       "      <th>Heating</th>\n",
       "      <th>Electrical</th>\n",
       "      <th>GarageArea</th>\n",
       "      <th>finishedbsmt</th>\n",
       "      <th>TotalSF</th>\n",
       "      <th>2Types</th>\n",
       "      <th>Basment</th>\n",
       "      <th>...</th>\n",
       "      <th>Ext_Plywood</th>\n",
       "      <th>Ext_Stucco</th>\n",
       "      <th>Ext_WdSdng</th>\n",
       "      <th>Ext_WdShing</th>\n",
       "      <th>House_1.5Fin</th>\n",
       "      <th>House_1.5Unf</th>\n",
       "      <th>House_2.5Unf</th>\n",
       "      <th>House_2Story</th>\n",
       "      <th>House_SFoyer</th>\n",
       "      <th>House_SLvl</th>\n",
       "    </tr>\n",
       "  </thead>\n",
       "  <tbody>\n",
       "    <tr>\n",
       "      <th>0</th>\n",
       "      <td>1.0</td>\n",
       "      <td>5.0</td>\n",
       "      <td>6.0</td>\n",
       "      <td>1.0</td>\n",
       "      <td>5.0</td>\n",
       "      <td>0.395813</td>\n",
       "      <td>1.055500</td>\n",
       "      <td>0.094904</td>\n",
       "      <td>0.0</td>\n",
       "      <td>0.0</td>\n",
       "      <td>...</td>\n",
       "      <td>0.0</td>\n",
       "      <td>0.0</td>\n",
       "      <td>0.0</td>\n",
       "      <td>0.0</td>\n",
       "      <td>0.0</td>\n",
       "      <td>0.0</td>\n",
       "      <td>0.0</td>\n",
       "      <td>1.0</td>\n",
       "      <td>0.0</td>\n",
       "      <td>0.0</td>\n",
       "    </tr>\n",
       "    <tr>\n",
       "      <th>1</th>\n",
       "      <td>1.0</td>\n",
       "      <td>5.0</td>\n",
       "      <td>6.0</td>\n",
       "      <td>1.0</td>\n",
       "      <td>5.0</td>\n",
       "      <td>-0.003137</td>\n",
       "      <td>0.930045</td>\n",
       "      <td>0.039098</td>\n",
       "      <td>0.0</td>\n",
       "      <td>0.0</td>\n",
       "      <td>...</td>\n",
       "      <td>0.0</td>\n",
       "      <td>0.0</td>\n",
       "      <td>0.0</td>\n",
       "      <td>0.0</td>\n",
       "      <td>0.0</td>\n",
       "      <td>0.0</td>\n",
       "      <td>0.0</td>\n",
       "      <td>0.0</td>\n",
       "      <td>0.0</td>\n",
       "      <td>0.0</td>\n",
       "    </tr>\n",
       "    <tr>\n",
       "      <th>2</th>\n",
       "      <td>1.0</td>\n",
       "      <td>5.0</td>\n",
       "      <td>6.0</td>\n",
       "      <td>1.0</td>\n",
       "      <td>5.0</td>\n",
       "      <td>0.661664</td>\n",
       "      <td>0.289614</td>\n",
       "      <td>0.277295</td>\n",
       "      <td>0.0</td>\n",
       "      <td>0.0</td>\n",
       "      <td>...</td>\n",
       "      <td>0.0</td>\n",
       "      <td>0.0</td>\n",
       "      <td>0.0</td>\n",
       "      <td>0.0</td>\n",
       "      <td>0.0</td>\n",
       "      <td>0.0</td>\n",
       "      <td>0.0</td>\n",
       "      <td>1.0</td>\n",
       "      <td>0.0</td>\n",
       "      <td>0.0</td>\n",
       "    </tr>\n",
       "    <tr>\n",
       "      <th>3</th>\n",
       "      <td>1.0</td>\n",
       "      <td>4.0</td>\n",
       "      <td>6.0</td>\n",
       "      <td>1.0</td>\n",
       "      <td>5.0</td>\n",
       "      <td>0.810361</td>\n",
       "      <td>-0.376041</td>\n",
       "      <td>-0.029373</td>\n",
       "      <td>0.0</td>\n",
       "      <td>0.0</td>\n",
       "      <td>...</td>\n",
       "      <td>0.0</td>\n",
       "      <td>0.0</td>\n",
       "      <td>1.0</td>\n",
       "      <td>0.0</td>\n",
       "      <td>0.0</td>\n",
       "      <td>0.0</td>\n",
       "      <td>0.0</td>\n",
       "      <td>1.0</td>\n",
       "      <td>0.0</td>\n",
       "      <td>0.0</td>\n",
       "    </tr>\n",
       "    <tr>\n",
       "      <th>4</th>\n",
       "      <td>1.0</td>\n",
       "      <td>5.0</td>\n",
       "      <td>6.0</td>\n",
       "      <td>1.0</td>\n",
       "      <td>5.0</td>\n",
       "      <td>1.635962</td>\n",
       "      <td>0.405769</td>\n",
       "      <td>1.046535</td>\n",
       "      <td>0.0</td>\n",
       "      <td>0.0</td>\n",
       "      <td>...</td>\n",
       "      <td>0.0</td>\n",
       "      <td>0.0</td>\n",
       "      <td>0.0</td>\n",
       "      <td>0.0</td>\n",
       "      <td>0.0</td>\n",
       "      <td>0.0</td>\n",
       "      <td>0.0</td>\n",
       "      <td>1.0</td>\n",
       "      <td>0.0</td>\n",
       "      <td>0.0</td>\n",
       "    </tr>\n",
       "  </tbody>\n",
       "</table>\n",
       "<p>5 rows × 108 columns</p>\n",
       "</div>"
      ],
      "text/plain": [
       "   CentralAir  HeatingQC  garage_score  Heating  Electrical  GarageArea  \\\n",
       "0         1.0        5.0           6.0      1.0         5.0    0.395813   \n",
       "1         1.0        5.0           6.0      1.0         5.0   -0.003137   \n",
       "2         1.0        5.0           6.0      1.0         5.0    0.661664   \n",
       "3         1.0        4.0           6.0      1.0         5.0    0.810361   \n",
       "4         1.0        5.0           6.0      1.0         5.0    1.635962   \n",
       "\n",
       "   finishedbsmt   TotalSF  2Types  Basment  ...  Ext_Plywood  Ext_Stucco  \\\n",
       "0      1.055500  0.094904     0.0      0.0  ...          0.0         0.0   \n",
       "1      0.930045  0.039098     0.0      0.0  ...          0.0         0.0   \n",
       "2      0.289614  0.277295     0.0      0.0  ...          0.0         0.0   \n",
       "3     -0.376041 -0.029373     0.0      0.0  ...          0.0         0.0   \n",
       "4      0.405769  1.046535     0.0      0.0  ...          0.0         0.0   \n",
       "\n",
       "   Ext_WdSdng  Ext_WdShing  House_1.5Fin  House_1.5Unf  House_2.5Unf  \\\n",
       "0         0.0          0.0           0.0           0.0           0.0   \n",
       "1         0.0          0.0           0.0           0.0           0.0   \n",
       "2         0.0          0.0           0.0           0.0           0.0   \n",
       "3         1.0          0.0           0.0           0.0           0.0   \n",
       "4         0.0          0.0           0.0           0.0           0.0   \n",
       "\n",
       "   House_2Story  House_SFoyer  House_SLvl  \n",
       "0           1.0           0.0         0.0  \n",
       "1           0.0           0.0         0.0  \n",
       "2           1.0           0.0         0.0  \n",
       "3           1.0           0.0         0.0  \n",
       "4           1.0           0.0         0.0  \n",
       "\n",
       "[5 rows x 108 columns]"
      ]
     },
     "execution_count": 12,
     "metadata": {},
     "output_type": "execute_result"
    }
   ],
   "source": [
    "X_train.head()"
   ]
  },
  {
   "cell_type": "code",
   "execution_count": null,
   "metadata": {},
   "outputs": [],
   "source": [
    "cleaned_hp.loc[:,\"LotArea\"] = np.log(cleaned_hp.loc[:,\"LotArea\"])\n",
    "cleaned_hp_test.loc[:,\"LotArea\"] = np.log(cleaned_hp_test.loc[:,\"LotArea\"])"
   ]
  },
  {
   "cell_type": "markdown",
   "metadata": {},
   "source": [
    "# Outlier imputation"
   ]
  },
  {
   "cell_type": "markdown",
   "metadata": {},
   "source": [
    "### RANDOM"
   ]
  },
  {
   "cell_type": "markdown",
   "metadata": {},
   "source": [
    "###### Train"
   ]
  },
  {
   "cell_type": "code",
   "execution_count": null,
   "metadata": {
    "scrolled": true
   },
   "outputs": [],
   "source": [
    "for col, idx in train_outliers.items():\n",
    "    hpf.outlier_imputation(cleaned_hp, cleaned_hp,idx, col = col, method = \"random\", decimals = 2,drop_zeros = True)\n",
    "    \n",
    "y_train = np.log(x_y['SalePrice'])\n",
    "X_train = x_y.drop([\"Id\",\"SalePrice\",\"Ext_ImStucc\", \"Ext_Stone\",\"House_2.5Fin\"],axis = 1)"
   ]
  },
  {
   "cell_type": "markdown",
   "metadata": {},
   "source": [
    "###### Test"
   ]
  },
  {
   "cell_type": "code",
   "execution_count": null,
   "metadata": {
    "scrolled": true
   },
   "outputs": [],
   "source": [
    "for key,value in test_range.items():\n",
    "    outliers = cleaned_hp_test.index[cleaned_hp_test.loc[:,key].apply(lambda x: (x < value[0]) or (x > value[1]))].to_list()\n",
    "    if len(outliers) != 0:\n",
    "        hpf.outlier_imputation(cleaned_hp, cleaned_hp_test,outliers, col = key, method = \"random\", decimals = 2,drop_zeros = True)"
   ]
  },
  {
   "cell_type": "markdown",
   "metadata": {},
   "source": [
    "---"
   ]
  },
  {
   "cell_type": "markdown",
   "metadata": {},
   "source": [
    "### KNeighbors"
   ]
  },
  {
   "cell_type": "markdown",
   "metadata": {},
   "source": [
    "# KNN USING SKLEARN"
   ]
  },
  {
   "cell_type": "code",
   "execution_count": 8,
   "metadata": {},
   "outputs": [],
   "source": [
    "KNN = impute.KNNImputer\n",
    "KNN = KNN()"
   ]
  },
  {
   "cell_type": "markdown",
   "metadata": {},
   "source": [
    "##### Train"
   ]
  },
  {
   "cell_type": "code",
   "execution_count": 9,
   "metadata": {
    "scrolled": false
   },
   "outputs": [
    {
     "name": "stderr",
     "output_type": "stream",
     "text": [
      "C:\\Users\\Micha\\Downloads\\Anaconda\\lib\\site-packages\\pandas\\core\\indexing.py:205: SettingWithCopyWarning: \n",
      "A value is trying to be set on a copy of a slice from a DataFrame\n",
      "\n",
      "See the caveats in the documentation: http://pandas.pydata.org/pandas-docs/stable/user_guide/indexing.html#returning-a-view-versus-a-copy\n",
      "  self._setitem_with_indexer(indexer, value)\n"
     ]
    },
    {
     "data": {
      "text/html": [
       "<div>\n",
       "<style scoped>\n",
       "    .dataframe tbody tr th:only-of-type {\n",
       "        vertical-align: middle;\n",
       "    }\n",
       "\n",
       "    .dataframe tbody tr th {\n",
       "        vertical-align: top;\n",
       "    }\n",
       "\n",
       "    .dataframe thead th {\n",
       "        text-align: right;\n",
       "    }\n",
       "</style>\n",
       "<table border=\"1\" class=\"dataframe\">\n",
       "  <thead>\n",
       "    <tr style=\"text-align: right;\">\n",
       "      <th></th>\n",
       "      <th>Id</th>\n",
       "      <th>CentralAir</th>\n",
       "      <th>HeatingQC</th>\n",
       "      <th>garage_score</th>\n",
       "      <th>Heating</th>\n",
       "      <th>Electrical</th>\n",
       "      <th>GarageArea</th>\n",
       "      <th>finishedbsmt</th>\n",
       "      <th>TotalSF</th>\n",
       "      <th>2Types</th>\n",
       "      <th>...</th>\n",
       "      <th>Ext_Stucco</th>\n",
       "      <th>Ext_WdSdng</th>\n",
       "      <th>Ext_WdShing</th>\n",
       "      <th>House_1.5Fin</th>\n",
       "      <th>House_1.5Unf</th>\n",
       "      <th>House_2.5Fin</th>\n",
       "      <th>House_2.5Unf</th>\n",
       "      <th>House_2Story</th>\n",
       "      <th>House_SFoyer</th>\n",
       "      <th>House_SLvl</th>\n",
       "    </tr>\n",
       "  </thead>\n",
       "  <tbody>\n",
       "    <tr>\n",
       "      <th>0</th>\n",
       "      <td>1.0</td>\n",
       "      <td>1.0</td>\n",
       "      <td>5.0</td>\n",
       "      <td>6.0</td>\n",
       "      <td>1.0</td>\n",
       "      <td>5.0</td>\n",
       "      <td>548.0</td>\n",
       "      <td>0.824766</td>\n",
       "      <td>2566.0</td>\n",
       "      <td>0.0</td>\n",
       "      <td>...</td>\n",
       "      <td>0.0</td>\n",
       "      <td>0.0</td>\n",
       "      <td>0.0</td>\n",
       "      <td>0.0</td>\n",
       "      <td>0.0</td>\n",
       "      <td>0.0</td>\n",
       "      <td>0.0</td>\n",
       "      <td>1.0</td>\n",
       "      <td>0.0</td>\n",
       "      <td>0.0</td>\n",
       "    </tr>\n",
       "    <tr>\n",
       "      <th>1</th>\n",
       "      <td>2.0</td>\n",
       "      <td>1.0</td>\n",
       "      <td>5.0</td>\n",
       "      <td>6.0</td>\n",
       "      <td>1.0</td>\n",
       "      <td>5.0</td>\n",
       "      <td>460.0</td>\n",
       "      <td>0.774960</td>\n",
       "      <td>2524.0</td>\n",
       "      <td>0.0</td>\n",
       "      <td>...</td>\n",
       "      <td>0.0</td>\n",
       "      <td>0.0</td>\n",
       "      <td>0.0</td>\n",
       "      <td>0.0</td>\n",
       "      <td>0.0</td>\n",
       "      <td>0.0</td>\n",
       "      <td>0.0</td>\n",
       "      <td>0.0</td>\n",
       "      <td>0.0</td>\n",
       "      <td>0.0</td>\n",
       "    </tr>\n",
       "    <tr>\n",
       "      <th>2</th>\n",
       "      <td>3.0</td>\n",
       "      <td>1.0</td>\n",
       "      <td>5.0</td>\n",
       "      <td>6.0</td>\n",
       "      <td>1.0</td>\n",
       "      <td>5.0</td>\n",
       "      <td>608.0</td>\n",
       "      <td>0.528261</td>\n",
       "      <td>2706.0</td>\n",
       "      <td>0.0</td>\n",
       "      <td>...</td>\n",
       "      <td>0.0</td>\n",
       "      <td>0.0</td>\n",
       "      <td>0.0</td>\n",
       "      <td>0.0</td>\n",
       "      <td>0.0</td>\n",
       "      <td>0.0</td>\n",
       "      <td>0.0</td>\n",
       "      <td>1.0</td>\n",
       "      <td>0.0</td>\n",
       "      <td>0.0</td>\n",
       "    </tr>\n",
       "    <tr>\n",
       "      <th>3</th>\n",
       "      <td>4.0</td>\n",
       "      <td>1.0</td>\n",
       "      <td>4.0</td>\n",
       "      <td>6.0</td>\n",
       "      <td>1.0</td>\n",
       "      <td>5.0</td>\n",
       "      <td>642.0</td>\n",
       "      <td>0.285714</td>\n",
       "      <td>2473.0</td>\n",
       "      <td>0.0</td>\n",
       "      <td>...</td>\n",
       "      <td>0.0</td>\n",
       "      <td>1.0</td>\n",
       "      <td>0.0</td>\n",
       "      <td>0.0</td>\n",
       "      <td>0.0</td>\n",
       "      <td>0.0</td>\n",
       "      <td>0.0</td>\n",
       "      <td>1.0</td>\n",
       "      <td>0.0</td>\n",
       "      <td>0.0</td>\n",
       "    </tr>\n",
       "    <tr>\n",
       "      <th>4</th>\n",
       "      <td>5.0</td>\n",
       "      <td>1.0</td>\n",
       "      <td>5.0</td>\n",
       "      <td>6.0</td>\n",
       "      <td>1.0</td>\n",
       "      <td>5.0</td>\n",
       "      <td>836.0</td>\n",
       "      <td>0.572052</td>\n",
       "      <td>3343.0</td>\n",
       "      <td>0.0</td>\n",
       "      <td>...</td>\n",
       "      <td>0.0</td>\n",
       "      <td>0.0</td>\n",
       "      <td>0.0</td>\n",
       "      <td>0.0</td>\n",
       "      <td>0.0</td>\n",
       "      <td>0.0</td>\n",
       "      <td>0.0</td>\n",
       "      <td>1.0</td>\n",
       "      <td>0.0</td>\n",
       "      <td>0.0</td>\n",
       "    </tr>\n",
       "  </tbody>\n",
       "</table>\n",
       "<p>5 rows × 112 columns</p>\n",
       "</div>"
      ],
      "text/plain": [
       "    Id  CentralAir  HeatingQC  garage_score  Heating  Electrical  GarageArea  \\\n",
       "0  1.0         1.0        5.0           6.0      1.0         5.0       548.0   \n",
       "1  2.0         1.0        5.0           6.0      1.0         5.0       460.0   \n",
       "2  3.0         1.0        5.0           6.0      1.0         5.0       608.0   \n",
       "3  4.0         1.0        4.0           6.0      1.0         5.0       642.0   \n",
       "4  5.0         1.0        5.0           6.0      1.0         5.0       836.0   \n",
       "\n",
       "   finishedbsmt  TotalSF  2Types  ...  Ext_Stucco  Ext_WdSdng  Ext_WdShing  \\\n",
       "0      0.824766   2566.0     0.0  ...         0.0         0.0          0.0   \n",
       "1      0.774960   2524.0     0.0  ...         0.0         0.0          0.0   \n",
       "2      0.528261   2706.0     0.0  ...         0.0         0.0          0.0   \n",
       "3      0.285714   2473.0     0.0  ...         0.0         1.0          0.0   \n",
       "4      0.572052   3343.0     0.0  ...         0.0         0.0          0.0   \n",
       "\n",
       "   House_1.5Fin  House_1.5Unf  House_2.5Fin  House_2.5Unf  House_2Story  \\\n",
       "0           0.0           0.0           0.0           0.0           1.0   \n",
       "1           0.0           0.0           0.0           0.0           0.0   \n",
       "2           0.0           0.0           0.0           0.0           1.0   \n",
       "3           0.0           0.0           0.0           0.0           1.0   \n",
       "4           0.0           0.0           0.0           0.0           1.0   \n",
       "\n",
       "   House_SFoyer  House_SLvl  \n",
       "0           0.0         0.0  \n",
       "1           0.0         0.0  \n",
       "2           0.0         0.0  \n",
       "3           0.0         0.0  \n",
       "4           0.0         0.0  \n",
       "\n",
       "[5 rows x 112 columns]"
      ]
     },
     "execution_count": 9,
     "metadata": {},
     "output_type": "execute_result"
    }
   ],
   "source": [
    "#replaces outliers with NAN\n",
    "for col, idx in train_outliers.items():\n",
    "    cleaned_hp.loc[:,col].iloc[idx] = np.nan\n",
    "\n",
    "columns_ = cleaned_hp.columns\n",
    "cleaned_hp = KNN.fit_transform(cleaned_hp)\n",
    "cleaned_hp = pd.DataFrame(cleaned_hp,columns = columns_)\n",
    "cleaned_hp.head()"
   ]
  },
  {
   "cell_type": "markdown",
   "metadata": {},
   "source": [
    "##### Test"
   ]
  },
  {
   "cell_type": "code",
   "execution_count": 10,
   "metadata": {},
   "outputs": [
    {
     "name": "stderr",
     "output_type": "stream",
     "text": [
      "C:\\Users\\Micha\\Downloads\\Anaconda\\lib\\site-packages\\pandas\\core\\indexing.py:205: SettingWithCopyWarning: \n",
      "A value is trying to be set on a copy of a slice from a DataFrame\n",
      "\n",
      "See the caveats in the documentation: http://pandas.pydata.org/pandas-docs/stable/user_guide/indexing.html#returning-a-view-versus-a-copy\n",
      "  self._setitem_with_indexer(indexer, value)\n"
     ]
    },
    {
     "data": {
      "text/html": [
       "<div>\n",
       "<style scoped>\n",
       "    .dataframe tbody tr th:only-of-type {\n",
       "        vertical-align: middle;\n",
       "    }\n",
       "\n",
       "    .dataframe tbody tr th {\n",
       "        vertical-align: top;\n",
       "    }\n",
       "\n",
       "    .dataframe thead th {\n",
       "        text-align: right;\n",
       "    }\n",
       "</style>\n",
       "<table border=\"1\" class=\"dataframe\">\n",
       "  <thead>\n",
       "    <tr style=\"text-align: right;\">\n",
       "      <th></th>\n",
       "      <th>Id</th>\n",
       "      <th>CentralAir</th>\n",
       "      <th>HeatingQC</th>\n",
       "      <th>garage_score</th>\n",
       "      <th>Heating</th>\n",
       "      <th>Electrical</th>\n",
       "      <th>GarageArea</th>\n",
       "      <th>finishedbsmt</th>\n",
       "      <th>TotalSF</th>\n",
       "      <th>2Types</th>\n",
       "      <th>...</th>\n",
       "      <th>Ext_Plywood</th>\n",
       "      <th>Ext_Stucco</th>\n",
       "      <th>Ext_WdSdng</th>\n",
       "      <th>Ext_WdShing</th>\n",
       "      <th>House_1.5Fin</th>\n",
       "      <th>House_1.5Unf</th>\n",
       "      <th>House_2.5Unf</th>\n",
       "      <th>House_2Story</th>\n",
       "      <th>House_SFoyer</th>\n",
       "      <th>House_SLvl</th>\n",
       "    </tr>\n",
       "  </thead>\n",
       "  <tbody>\n",
       "    <tr>\n",
       "      <th>0</th>\n",
       "      <td>1461.0</td>\n",
       "      <td>1.0</td>\n",
       "      <td>3.0</td>\n",
       "      <td>6.0</td>\n",
       "      <td>1.0</td>\n",
       "      <td>5.0</td>\n",
       "      <td>730.0</td>\n",
       "      <td>0.693878</td>\n",
       "      <td>1778.0</td>\n",
       "      <td>0.0</td>\n",
       "      <td>...</td>\n",
       "      <td>0.0</td>\n",
       "      <td>0.0</td>\n",
       "      <td>0.0</td>\n",
       "      <td>0.0</td>\n",
       "      <td>0.0</td>\n",
       "      <td>0.0</td>\n",
       "      <td>0.0</td>\n",
       "      <td>0.0</td>\n",
       "      <td>0.0</td>\n",
       "      <td>0.0</td>\n",
       "    </tr>\n",
       "    <tr>\n",
       "      <th>1</th>\n",
       "      <td>1462.0</td>\n",
       "      <td>1.0</td>\n",
       "      <td>3.0</td>\n",
       "      <td>6.0</td>\n",
       "      <td>1.0</td>\n",
       "      <td>5.0</td>\n",
       "      <td>312.0</td>\n",
       "      <td>0.694507</td>\n",
       "      <td>2658.0</td>\n",
       "      <td>0.0</td>\n",
       "      <td>...</td>\n",
       "      <td>0.0</td>\n",
       "      <td>0.0</td>\n",
       "      <td>1.0</td>\n",
       "      <td>0.0</td>\n",
       "      <td>0.0</td>\n",
       "      <td>0.0</td>\n",
       "      <td>0.0</td>\n",
       "      <td>0.0</td>\n",
       "      <td>0.0</td>\n",
       "      <td>0.0</td>\n",
       "    </tr>\n",
       "    <tr>\n",
       "      <th>2</th>\n",
       "      <td>1463.0</td>\n",
       "      <td>1.0</td>\n",
       "      <td>4.0</td>\n",
       "      <td>6.0</td>\n",
       "      <td>1.0</td>\n",
       "      <td>5.0</td>\n",
       "      <td>482.0</td>\n",
       "      <td>0.852371</td>\n",
       "      <td>2557.0</td>\n",
       "      <td>0.0</td>\n",
       "      <td>...</td>\n",
       "      <td>0.0</td>\n",
       "      <td>0.0</td>\n",
       "      <td>0.0</td>\n",
       "      <td>0.0</td>\n",
       "      <td>0.0</td>\n",
       "      <td>0.0</td>\n",
       "      <td>0.0</td>\n",
       "      <td>1.0</td>\n",
       "      <td>0.0</td>\n",
       "      <td>0.0</td>\n",
       "    </tr>\n",
       "    <tr>\n",
       "      <th>3</th>\n",
       "      <td>1464.0</td>\n",
       "      <td>1.0</td>\n",
       "      <td>5.0</td>\n",
       "      <td>6.0</td>\n",
       "      <td>1.0</td>\n",
       "      <td>5.0</td>\n",
       "      <td>470.0</td>\n",
       "      <td>0.650108</td>\n",
       "      <td>2530.0</td>\n",
       "      <td>0.0</td>\n",
       "      <td>...</td>\n",
       "      <td>0.0</td>\n",
       "      <td>0.0</td>\n",
       "      <td>0.0</td>\n",
       "      <td>0.0</td>\n",
       "      <td>0.0</td>\n",
       "      <td>0.0</td>\n",
       "      <td>0.0</td>\n",
       "      <td>1.0</td>\n",
       "      <td>0.0</td>\n",
       "      <td>0.0</td>\n",
       "    </tr>\n",
       "    <tr>\n",
       "      <th>4</th>\n",
       "      <td>1465.0</td>\n",
       "      <td>1.0</td>\n",
       "      <td>5.0</td>\n",
       "      <td>6.0</td>\n",
       "      <td>1.0</td>\n",
       "      <td>5.0</td>\n",
       "      <td>506.0</td>\n",
       "      <td>0.205469</td>\n",
       "      <td>2560.0</td>\n",
       "      <td>0.0</td>\n",
       "      <td>...</td>\n",
       "      <td>0.0</td>\n",
       "      <td>0.0</td>\n",
       "      <td>0.0</td>\n",
       "      <td>0.0</td>\n",
       "      <td>0.0</td>\n",
       "      <td>0.0</td>\n",
       "      <td>0.0</td>\n",
       "      <td>0.0</td>\n",
       "      <td>0.0</td>\n",
       "      <td>0.0</td>\n",
       "    </tr>\n",
       "  </tbody>\n",
       "</table>\n",
       "<p>5 rows × 109 columns</p>\n",
       "</div>"
      ],
      "text/plain": [
       "       Id  CentralAir  HeatingQC  garage_score  Heating  Electrical  \\\n",
       "0  1461.0         1.0        3.0           6.0      1.0         5.0   \n",
       "1  1462.0         1.0        3.0           6.0      1.0         5.0   \n",
       "2  1463.0         1.0        4.0           6.0      1.0         5.0   \n",
       "3  1464.0         1.0        5.0           6.0      1.0         5.0   \n",
       "4  1465.0         1.0        5.0           6.0      1.0         5.0   \n",
       "\n",
       "   GarageArea  finishedbsmt  TotalSF  2Types  ...  Ext_Plywood  Ext_Stucco  \\\n",
       "0       730.0      0.693878   1778.0     0.0  ...          0.0         0.0   \n",
       "1       312.0      0.694507   2658.0     0.0  ...          0.0         0.0   \n",
       "2       482.0      0.852371   2557.0     0.0  ...          0.0         0.0   \n",
       "3       470.0      0.650108   2530.0     0.0  ...          0.0         0.0   \n",
       "4       506.0      0.205469   2560.0     0.0  ...          0.0         0.0   \n",
       "\n",
       "   Ext_WdSdng  Ext_WdShing  House_1.5Fin  House_1.5Unf  House_2.5Unf  \\\n",
       "0         0.0          0.0           0.0           0.0           0.0   \n",
       "1         1.0          0.0           0.0           0.0           0.0   \n",
       "2         0.0          0.0           0.0           0.0           0.0   \n",
       "3         0.0          0.0           0.0           0.0           0.0   \n",
       "4         0.0          0.0           0.0           0.0           0.0   \n",
       "\n",
       "   House_2Story  House_SFoyer  House_SLvl  \n",
       "0           0.0           0.0         0.0  \n",
       "1           0.0           0.0         0.0  \n",
       "2           1.0           0.0         0.0  \n",
       "3           1.0           0.0         0.0  \n",
       "4           0.0           0.0         0.0  \n",
       "\n",
       "[5 rows x 109 columns]"
      ]
     },
     "execution_count": 10,
     "metadata": {},
     "output_type": "execute_result"
    }
   ],
   "source": [
    "#replaces outliers with NAN\n",
    "for col,idx in test_range.items():\n",
    "    outliers = cleaned_hp_test.index[cleaned_hp_test.loc[:,col].apply(lambda x: (x < idx[0]) or (x > idx[1]))].to_list()\n",
    "    if len(outliers) != 0:\n",
    "        cleaned_hp_test.loc[:,col].iloc[outliers] = np.nan\n",
    "\n",
    "columns_ = cleaned_hp_test.columns\n",
    "cleaned_hp_test = KNN.fit_transform(cleaned_hp_test)\n",
    "cleaned_hp_test = pd.DataFrame(cleaned_hp_test,columns = columns_)\n",
    "cleaned_hp_test.head()"
   ]
  },
  {
   "cell_type": "code",
   "execution_count": 13,
   "metadata": {},
   "outputs": [],
   "source": [
    "#TRAIN X y\n",
    "y_train = np.log(x_y['SalePrice'])\n",
    "X_train = cleaned_hp.drop([\"Id\",\"Ext_ImStucc\", \"Ext_Stone\",\"House_2.5Fin\"],axis = 1)"
   ]
  },
  {
   "cell_type": "markdown",
   "metadata": {},
   "source": [
    "---"
   ]
  },
  {
   "cell_type": "code",
   "execution_count": null,
   "metadata": {},
   "outputs": [],
   "source": [
    "impute_dict = {\n",
    "    'GarageArea':'LotArea',\n",
    "    'TotalBsmtSF': 'GrLivArea',\n",
    "    'GrLivArea':'TotalBsmtSF',\n",
    "    'EnclosedPorch':'Total_PorchDeckSF',\n",
    "    'Total_PorchDeckSF':'EnclosedPorch'\n",
    "}"
   ]
  },
  {
   "cell_type": "markdown",
   "metadata": {},
   "source": [
    "###### Train"
   ]
  },
  {
   "cell_type": "code",
   "execution_count": null,
   "metadata": {
    "scrolled": true
   },
   "outputs": [],
   "source": [
    "for col, idx in train_outliers_k.items():\n",
    "    for col_impute, col_neighbor in impute_dict.items():\n",
    "        if col == col_impute:\n",
    "            hpf.k_neighbors(cleaned_hp,cleaned_hp,col,idx,col_neighbor,k = 5)    \n",
    "\n",
    "#TRAIN X y\n",
    "y_train = np.log(x_y['SalePrice'])\n",
    "X_train = cleaned_hp.drop([\"Id\",\"Ext_ImStucc\", \"Ext_Stone\",\"House_2.5Fin\"],axis = 1)"
   ]
  },
  {
   "cell_type": "markdown",
   "metadata": {},
   "source": [
    "###### Test"
   ]
  },
  {
   "cell_type": "code",
   "execution_count": null,
   "metadata": {
    "scrolled": false
   },
   "outputs": [],
   "source": [
    "for col,idx in test_range_k.items():\n",
    "    outliers = cleaned_hp_test.index[cleaned_hp_test.loc[:,key].apply(lambda x: (x < value[0]) or (x > value[1]))].to_list()\n",
    "    if len(outliers) != 0:\n",
    "        for col_impute, col_neighbor in impute_dict.items():\n",
    "            if col == col_impute:\n",
    "                hpf.k_neighbors(cleaned_hp,cleaned_hp_test,col,outliers,col_neighbor,k = 5)"
   ]
  },
  {
   "cell_type": "markdown",
   "metadata": {},
   "source": [
    "# Elastic Net\n",
    "\n",
    "### standardization \n",
    "\n",
    "##### Train"
   ]
  },
  {
   "cell_type": "code",
   "execution_count": 14,
   "metadata": {
    "scrolled": false
   },
   "outputs": [
    {
     "name": "stdout",
     "output_type": "stream",
     "text": [
      "LotShape\n",
      "1.309985656555955\n",
      "0.7831035648282987\n",
      "--------------------------------------------------\n",
      "LandSlope\n",
      "4.813682424489448\n",
      "4.297167061742489\n",
      "--------------------------------------------------\n",
      "EnclosedPorch\n",
      "2.0559919593921494\n",
      "2.0559776598539408\n",
      "--------------------------------------------------\n",
      "Full Model RMSE: 0.11717843894149009\n",
      "Full model R2: 0.9138879225938381\n"
     ]
    }
   ],
   "source": [
    "en_model = ElasticNetCV(l1_ratio=[0.7], eps=1e-3, fit_intercept=True, \n",
    "                        normalize=True, precompute='auto', max_iter=2000, tol=0.0001, cv=10, \n",
    "                        copy_X=True, verbose=0, n_jobs=-1, positive=False, random_state=0)\n",
    "\n",
    "for col in X_train.columns:\n",
    "    if (X_train[col].nunique() != 2) and (X_train[col].skew() > 0.75):\n",
    "        print(col)\n",
    "        print(X_train[col].skew())\n",
    "        X_train[col] = np.log1p(X_train[col])\n",
    "        print(X_train[col].skew())\n",
    "        print('-'*50)\n",
    "\n",
    "full_model = en_model.fit(X_train, y_train)\n",
    "y_pred = full_model.predict(X_train)\n",
    "print(\"Full Model RMSE:\",np.sqrt(metrics.mean_squared_error(y_pred, y_train)))\n",
    "print(\"Full model R2:\",en_model.score(X_train,y_train))"
   ]
  },
  {
   "cell_type": "markdown",
   "metadata": {},
   "source": [
    "##### Test"
   ]
  },
  {
   "cell_type": "code",
   "execution_count": null,
   "metadata": {
    "scrolled": false
   },
   "outputs": [],
   "source": [
    "X_test = cleaned_hp_test.drop([\"Id\"],axis = 1)\n",
    "for col in X_test.columns:\n",
    "    if (X_test[col].nunique() != 2) and (X_test[col].skew() > 0.75):\n",
    "        print(col)\n",
    "        print(X_test[col].skew())\n",
    "        X_test[col] = np.log1p(X_test[col])\n",
    "        print(X_test[col].skew())\n",
    "        print('-'*50)"
   ]
  },
  {
   "cell_type": "code",
   "execution_count": null,
   "metadata": {
    "scrolled": true
   },
   "outputs": [],
   "source": [
    "y_log_values = full_model.predict(X_test)\n",
    "y_test = np.exp(y_log_values)\n",
    "results = pd.DataFrame(zip(cleaned_hp_test.Id.astype(int),y_test),columns = [\"Id\",\"SalePrice\"])\n",
    "results.head(10)"
   ]
  },
  {
   "cell_type": "code",
   "execution_count": null,
   "metadata": {},
   "outputs": [],
   "source": [
    "test_submission = results.to_csv('data/submission.csv',index = False)"
   ]
  },
  {
   "cell_type": "markdown",
   "metadata": {},
   "source": [
    "# MLR"
   ]
  },
  {
   "cell_type": "code",
   "execution_count": null,
   "metadata": {
    "scrolled": true
   },
   "outputs": [],
   "source": [
    "X_test = cleaned_hp_test.drop([\"Id\"],axis = 1)\n",
    "ols = linear_model.LinearRegression()\n",
    "MLR = ols.fit(X_train,y_train)\n",
    "print(\"Model R^2:\",MLR.score(X_train,y_train))"
   ]
  },
  {
   "cell_type": "code",
   "execution_count": null,
   "metadata": {},
   "outputs": [],
   "source": [
    "MLR_model_predictions = np.exp(MLR.predict(X_test))\n",
    "MLR_model = pd.DataFrame(zip(cleaned_hp_test.Id.astype(int),MLR_model_predictions),columns = [\"Id\",\"SalePrice\"])\n",
    "MLR_model.head()"
   ]
  },
  {
   "cell_type": "code",
   "execution_count": null,
   "metadata": {},
   "outputs": [],
   "source": [
    "test_submission = MLR_model.to_csv('data/submission1.csv',index = False)"
   ]
  },
  {
   "cell_type": "code",
   "execution_count": null,
   "metadata": {},
   "outputs": [],
   "source": []
  }
 ],
 "metadata": {
  "kernelspec": {
   "display_name": "Python 3",
   "language": "python",
   "name": "python3"
  },
  "language_info": {
   "codemirror_mode": {
    "name": "ipython",
    "version": 3
   },
   "file_extension": ".py",
   "mimetype": "text/x-python",
   "name": "python",
   "nbconvert_exporter": "python",
   "pygments_lexer": "ipython3",
   "version": "3.7.3"
  }
 },
 "nbformat": 4,
 "nbformat_minor": 2
}
