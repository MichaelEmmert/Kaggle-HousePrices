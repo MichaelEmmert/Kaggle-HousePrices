{
 "cells": [
  {
   "cell_type": "code",
   "execution_count": 1,
   "metadata": {},
   "outputs": [],
   "source": [
    "import pandas as pd\n",
    "import numpy as np\n",
    "from sklearn.model_selection import train_test_split\n",
    "import xgboost as xgb\n",
    "import matplotlib.pyplot as plt\n",
    "from sklearn.metrics import accuracy_score\n",
    "from sklearn.metrics import mean_squared_error\n",
    "from sklearn.linear_model import LinearRegression\n",
    "from sklearn import tree\n",
    "from sklearn import ensemble\n",
    "from sklearn.model_selection import cross_val_score, cross_val_predict\n",
    "import sklearn.model_selection as ms\n",
    "import warnings\n",
    "import matplotlib.ticker as ticker\n",
    "import seaborn as sns\n",
    "warnings.filterwarnings('ignore')\n"
   ]
  },
  {
   "cell_type": "markdown",
   "metadata": {},
   "source": [
    "## Stacked model testing"
   ]
  },
  {
   "cell_type": "markdown",
   "metadata": {},
   "source": [
    "### XGboost"
   ]
  },
  {
   "cell_type": "code",
   "execution_count": null,
   "metadata": {},
   "outputs": [],
   "source": [
    "def get_error(X_train, y_train, X_test, y_test, model, show = True):\n",
    "    model.fit(X_train, y_train)\n",
    "    train_error = 1 - model.score(X_train, y_train)\n",
    "    test_error  = 1 - model.score(X_test, y_test)\n",
    "    if show:\n",
    "        print(\"The training error is: %.5f\" %train_error)\n",
    "        print(\"The test     error is: %.5f\" %test_error)\n",
    "    return [train_error, test_error]"
   ]
  },
  {
   "cell_type": "code",
   "execution_count": 5,
   "metadata": {},
   "outputs": [],
   "source": [
    "train_data_cleaned = pd.read_csv(\"data/cleaned_houseprice.csv\")\n",
    "HousePrices = pd.read_csv('data/train.csv')\n",
    "#HousePrices_adj = pd.read_csv('./collab/data/SalePriceAdj.csv')[[\"Id\",\"SalePrice_Adj\"]]\n",
    "\n",
    "X = train_data_cleaned.drop(['Id'], axis = 1)\n",
    "y = np.log(HousePrices['SalePrice'])\n",
    "\n",
    "# Exclude price outliers - old\n",
    "# train_exclude = HousePrices.loc[[462,30,1432,812,142,1182,1270,3,691]]\n",
    "\n",
    "train_exclude = HousePrices.loc[[313,335,249,706,451,1298,523,1182,691,496]]\n",
    "X = X.loc[list(set(X.index)-set(train_exclude.index))]\n",
    "y = y.loc[list(set(y.index)-set(train_exclude.index))]\n",
    "\n",
    "X_train, X_test, y_train, y_test = train_test_split(X, y, test_size =0.2, random_state = 1)"
   ]
  },
  {
   "cell_type": "markdown",
   "metadata": {},
   "source": [
    "#### Hyper Parameter Tuning"
   ]
  },
  {
   "cell_type": "code",
   "execution_count": 2,
   "metadata": {},
   "outputs": [],
   "source": [
    "xg_cl = xgb.XGBRegressor()"
   ]
  },
  {
   "cell_type": "code",
   "execution_count": null,
   "metadata": {},
   "outputs": [],
   "source": [
    "# Need to tune max_depth - 3 is the best\n",
    "depth  = range(1, 10)\n",
    "xg_cl_train = []\n",
    "xg_cl_test = []\n",
    "for i in depth:\n",
    "    xg_cl.set_params(max_depth = i)\n",
    "    error = get_error(X_train, y_train, X_test, y_test, xg_cl, show=False)\n",
    "    xg_cl_train.append(error[0])\n",
    "    xg_cl_test.append(error[1])\n",
    "\n",
    "plt.plot(depth, xg_cl_train, c = 'blue', label='training error')\n",
    "plt.plot(depth, xg_cl_test, c = 'red', label='test error')\n",
    "plt.legend(loc=7)\n",
    "plt.xlabel('depth')"
   ]
  },
  {
   "cell_type": "code",
   "execution_count": null,
   "metadata": {},
   "outputs": [],
   "source": [
    "# Need to tune n_estimator - 100\n",
    "depth  = range(50, 650, 50)\n",
    "xg_cl_train = []\n",
    "xg_cl_test = []\n",
    "for i in depth:\n",
    "    xg_cl.set_params(n_estimators = i)\n",
    "    error = get_error(X_train, y_train, X_test, y_test, xg_cl, show=False)\n",
    "    xg_cl_train.append(error[0])\n",
    "    xg_cl_test.append(error[1])\n",
    "\n",
    "plt.plot(depth, xg_cl_train, c = 'blue', label='training error')\n",
    "plt.plot(depth, xg_cl_test, c = 'red', label='test error')\n",
    "plt.legend(loc=7)\n",
    "plt.xlabel('n_estimator')"
   ]
  },
  {
   "cell_type": "markdown",
   "metadata": {},
   "source": [
    "#### Running the model and inspecting results"
   ]
  },
  {
   "cell_type": "code",
   "execution_count": null,
   "metadata": {},
   "outputs": [],
   "source": [
    "# Outcomes\n",
    "xg_cl = xgb.XGBRegressor(n_estimators = 100, learning_rate = 0.1, max_depth= 3, seed = 1, subsample = 0.9)\n",
    "xg_cl.fit(X_train,y_train)\n",
    "preds_train = xg_cl.predict(X_train)\n",
    "preds_test = xg_cl.predict(X_test)\n",
    "\n",
    "RMSE = np.sqrt(mean_squared_error(y_test, preds_test))\n",
    "print(\"RMSE:\", RMSE)\n",
    "print(\"R^2 Train:\", xg_cl.score(X_train, y_train))\n",
    "print(\"R^2 Test:\", xg_cl.score(X_test, y_test))\n",
    "\n",
    "plt.scatter(preds_train, y_train, c=\"green\")\n",
    "plt.scatter(preds_test, y_test, c =\"red\")"
   ]
  },
  {
   "cell_type": "code",
   "execution_count": null,
   "metadata": {},
   "outputs": [],
   "source": [
    "# 10 fold Cross validation\n",
    "scores = cross_val_score(xg_cl, X, y, cv=10)\n",
    "predictions = cross_val_predict(xg_cl, X, y, cv=10)\n",
    "\n",
    "# Cross Validation results - XGB\n",
    "print(\"RSME of CV:\", np.sqrt(mean_squared_error(predictions, y)))\n",
    "print(\"R^2 of CV:\", scores.mean())"
   ]
  },
  {
   "cell_type": "code",
   "execution_count": null,
   "metadata": {},
   "outputs": [],
   "source": [
    "# Feature importance\n",
    "feature_selection = pd.DataFrame({\"feature\":X_train.columns, \"importance\":xg_cl.feature_importances_})\n",
    "\n",
    "plt.figure(figsize=(20,30))\n",
    "feature_selection.sort_values(\"importance\", ascending = False).head(60).plot.bar(x='feature', y='importance', figsize = (20,5))\n",
    "feature_selection.loc[feature_selection[\"feature\"] == \"BedroomAbvGr\"]\n",
    "feature_selection.sort_values(\"importance\", ascending = False).head(90)\n",
    "important_features = feature_selection.sort_values(\"importance\", ascending = False).head(70)[\"feature\"]"
   ]
  },
  {
   "cell_type": "markdown",
   "metadata": {},
   "source": [
    "#### Residuals"
   ]
  },
  {
   "cell_type": "code",
   "execution_count": null,
   "metadata": {},
   "outputs": [],
   "source": [
    "# price vs. residual plot - full train data set\n",
    "\n",
    "residual_full = xg_cl.predict(X) - y\n",
    "print(np.corrcoef(y, residual_full)[0,1])\n",
    "plt.scatter(y, residual_full, color = \"red\")\n"
   ]
  },
  {
   "cell_type": "code",
   "execution_count": null,
   "metadata": {},
   "outputs": [],
   "source": [
    "# price vs. residual plot - full train data set actual\n",
    "residual_full_act = np.exp(xg_cl.predict(X)) - np.exp(y)\n",
    "print(np.corrcoef(np.exp(y), residual_full_act)[0,1])\n",
    "\n",
    "g = sns.scatterplot(np.exp(y), residual_full_act, color='green')\n",
    "plt.xlabel('Actual Price')\n",
    "plt.ylabel('XGB Prediction')\n",
    "plt.title(\"Residual Plot Excluding Outliers - XGB\")\n",
    "xlabels = ['${:,.0f}'.format(x) + 'K' for x in g.get_xticks()/1000]\n",
    "ylabels = ['${:,.0f}'.format(x) + 'K' for x in g.get_yticks()/1000]\n",
    "g.set_xticklabels(xlabels)\n",
    "g.set_yticklabels(ylabels)\n",
    "plt.savefig('XGB_Residual_Plot_Excluding_Outliers.pdf')"
   ]
  },
  {
   "cell_type": "code",
   "execution_count": null,
   "metadata": {},
   "outputs": [],
   "source": [
    "# price vs. residual plot - Train\n",
    "residual_train = preds_train-y_train\n",
    "print(np.corrcoef(y_train, residual_train)[0,1])\n",
    "plt.scatter(y_train,residual_train, color = \"red\")\n"
   ]
  },
  {
   "cell_type": "code",
   "execution_count": null,
   "metadata": {},
   "outputs": [],
   "source": [
    "# price vs. residual plot - Test\n",
    "residual_test = preds_test-y_test\n",
    "print(np.corrcoef(y_test, residual_test)[0,1])\n",
    "plt.scatter(y_test,residual_test, color = \"red\")"
   ]
  },
  {
   "cell_type": "code",
   "execution_count": null,
   "metadata": {},
   "outputs": [],
   "source": [
    "# price vs. residual plot - Test in actual space\n",
    "residual_test_act = np.exp(preds_test)-np.exp(y_test)\n",
    "print(np.corrcoef(np.exp(y_test), residual_test_act)[0,1])\n",
    "plt.scatter(np.exp(y_test),residual_test_act, color = \"red\")"
   ]
  },
  {
   "cell_type": "markdown",
   "metadata": {},
   "source": [
    "---"
   ]
  },
  {
   "cell_type": "markdown",
   "metadata": {},
   "source": [
    "### Random Forest"
   ]
  },
  {
   "cell_type": "code",
   "execution_count": 9,
   "metadata": {},
   "outputs": [
    {
     "name": "stdout",
     "output_type": "stream",
     "text": [
      "0.9474900914662394\n"
     ]
    }
   ],
   "source": [
    "# create the data for random tree\n",
    "# preds_stack = np.concatenate([preds_train, preds_test]).reshape(-1,1)\n",
    "# y_stack = y_train.append(y_test)\n",
    "\n",
    "\n",
    "# X = train_data_cleaned.drop(['Id',\"House_2.5Fin\",\"Ext_Stone\",\"Ext_ImStucc\"], axis = 1)\n",
    "# y = np.log(HousePrices['SalePrice'])\n",
    "\n",
    "preds_stack = xg_cl.fit(X,y)\n",
    "preds_stack.fit(X, y)\n",
    "print(preds_stack.score(X, y))\n",
    "\n",
    "preds_train_all_stack = xg_cl.predict(X)\n",
    "\n",
    "\n"
   ]
  },
  {
   "cell_type": "code",
   "execution_count": null,
   "metadata": {},
   "outputs": [],
   "source": [
    "#preds_train_all_stack\n",
    "X_train_stack, X_test_stack, y_train_stack,  y_test_stack = train_test_split(preds_train_all_stack, y, test_size = 0.2, random_state = 0)\n"
   ]
  },
  {
   "cell_type": "markdown",
   "metadata": {},
   "source": [
    "#### Tuning Parameters"
   ]
  },
  {
   "cell_type": "code",
   "execution_count": 7,
   "metadata": {},
   "outputs": [],
   "source": [
    "randomForest = ensemble.RandomForestRegressor()"
   ]
  },
  {
   "cell_type": "code",
   "execution_count": null,
   "metadata": {},
   "outputs": [],
   "source": [
    "# set the parameter grid\n",
    "grid_para_forest = {\n",
    "    #'min_samples_leaf': range(1,15),\n",
    "    'max_depth': range(1, 15),\n",
    "    'n_estimators': range(10, 200, 10)\n",
    "}\n",
    "\n",
    "# run the RF classifier through the grid search\n",
    "grid_search_forest = ms.GridSearchCV(randomForest, grid_para_forest, cv=5, n_jobs=-1)\n",
    "%time grid_search_forest.fit(np.array(preds_train_all_stack).reshape(-1,1), y)\n"
   ]
  },
  {
   "cell_type": "code",
   "execution_count": null,
   "metadata": {},
   "outputs": [],
   "source": [
    "grid_search_forest.best_params_"
   ]
  },
  {
   "cell_type": "code",
   "execution_count": null,
   "metadata": {},
   "outputs": [],
   "source": [
    "# Tuning max_depth - 6\n",
    "\n",
    "depth  = range(1, 30)\n",
    "randomForest_train = []\n",
    "randomForest_test = []\n",
    "for i in depth:\n",
    "    randomForest.set_params(max_depth = i)\n",
    "    error = get_error(X_train, y_train, X_test, y_test, randomForest, show=False)\n",
    "    randomForest_train.append(error[0])\n",
    "    randomForest_test.append(error[1])\n",
    "\n",
    "plt.plot(depth, randomForest_train, c = 'blue', label='training error')\n",
    "plt.plot(depth, randomForest_test, c = 'red', label='test error')\n",
    "plt.legend(loc=7)\n",
    "plt.xlabel('depth')\n"
   ]
  },
  {
   "cell_type": "code",
   "execution_count": null,
   "metadata": {},
   "outputs": [],
   "source": [
    "tuning_RSME_test = []\n",
    "residual_actual = []\n",
    "residual_log = []\n",
    "tuning_RSME_train = []\n",
    "\n",
    "for n in range(1,50,1):\n",
    "    randomForest.set_params(n_estimators=90, random_state=42, max_features=1, max_depth = 6, min_samples_leaf= n)\n",
    "    randomForest.fit(np.array(X_train_stack).reshape(-1,1), y_train_stack)\n",
    "    \n",
    "    preds_train_stack = randomForest.predict(np.array(X_train_stack).reshape(-1,1))\n",
    "    preds_test_stack = randomForest.predict(np.array(X_test_stack).reshape(-1,1))\n",
    "\n",
    "    tuning_RSME_train.append(np.sqrt(mean_squared_error(y_train_stack, preds_train_stack)))\n",
    "    tuning_RSME_test.append(np.sqrt(mean_squared_error(y_test_stack, preds_test_stack)))\n",
    "    \n",
    "    residual_test_stack = preds_test_stack - y_test_stack\n",
    "    residual_log.append(np.abs(residual_test_stack).sum())\n",
    "    \n",
    "    predict_test_stack = randomForest.predict(np.array(X_test_stack).reshape(-1,1))\n",
    "    residual_actual.append(sum(np.abs(np.exp(predict_test_stack)-np.exp(y_test_stack))))"
   ]
  },
  {
   "cell_type": "code",
   "execution_count": null,
   "metadata": {
    "scrolled": true
   },
   "outputs": [],
   "source": [
    "pd.DataFrame({\"leaf_size\":range(1,50,1),\"tuning_RSME_test\":tuning_RSME_test, \"tuning_RSME_train\": tuning_RSME_train, \"residual_actual\":residual_actual, \"residual_log\":residual_log}).sort_values(\"leaf_size\")"
   ]
  },
  {
   "cell_type": "markdown",
   "metadata": {},
   "source": [
    "#### Train random forest model"
   ]
  },
  {
   "cell_type": "code",
   "execution_count": null,
   "metadata": {},
   "outputs": [],
   "source": [
    "\n",
    "randomForest.set_params(n_estimators=180, random_state=42, max_features=1, max_depth = 5, min_samples_leaf=6)\n",
    "randomForest.fit(np.array(X_train_stack).reshape(-1,1), y_train_stack)\n",
    "print(\"The training error of random forest is: %.5f\" %(1 - randomForest.score(np.array(X_train_stack).reshape(-1,1), y_train_stack)))\n",
    "print(\"The test error of random forest is: %.5f\" %(1 - randomForest.score(np.array(X_test_stack).reshape(-1,1), y_test_stack)))\n",
    "\n",
    "preds_train_stack = randomForest.predict(np.array(X_train_stack).reshape(-1,1))\n",
    "RMSE_train_stack = np.sqrt(mean_squared_error(y_train_stack, preds_train_stack))\n",
    "print(\"Train RMSE:\", RMSE_train_stack)\n",
    "\n",
    "\n",
    "preds_test_stack = randomForest.predict(np.array(X_test_stack).reshape(-1,1))\n",
    "RMSE_test_stack = np.sqrt(mean_squared_error(y_test_stack, preds_test_stack))\n",
    "print(\"Test RMSE:\", RMSE_test_stack)\n"
   ]
  },
  {
   "cell_type": "code",
   "execution_count": null,
   "metadata": {},
   "outputs": [],
   "source": [
    "# 10 fold Cross validation\n",
    "from sklearn.model_selection import cross_val_score, cross_val_predict\n",
    "scores_rf = cross_val_score(randomForest, np.array(preds_train_all_stack).reshape(-1,1), y, cv=10)\n",
    "predictions_rf = cross_val_predict(randomForest,np.array(preds_train_all_stack).reshape(-1,1), y, cv=10)\n",
    "print(\"RSME of CV:\", np.sqrt(mean_squared_error(predictions_rf, y)))\n",
    "print(\"R^2 of CV:\", scores_rf.mean())\n",
    "\n"
   ]
  },
  {
   "cell_type": "markdown",
   "metadata": {},
   "source": [
    "#### Residual Checks - Random Forest"
   ]
  },
  {
   "cell_type": "code",
   "execution_count": null,
   "metadata": {},
   "outputs": [],
   "source": [
    "# price vs. residual plot - full train set\n",
    "randomForest.fit(np.array(preds_train_all_stack).reshape(-1,1), y)\n",
    "residual_stack = randomForest.predict(np.array(preds_train_all_stack).reshape(-1,1)) - y\n",
    "print(np.corrcoef(y, residual_stack)[0,1])\n",
    "plt.scatter(y, residual_stack, color = \"red\")\n"
   ]
  },
  {
   "cell_type": "code",
   "execution_count": null,
   "metadata": {},
   "outputs": [],
   "source": [
    "# price vs. residual plot - full train set in actual space\n",
    "randomForest.fit(np.array(preds_train_all_stack).reshape(-1,1), y)\n",
    "residual_stack_act = np.exp(randomForest.predict(np.array(preds_train_all_stack).reshape(-1,1))) - np.exp(y)\n",
    "print(np.corrcoef(np.exp(y), residual_stack_act)[0,1])\n",
    "plt.scatter(np.exp(y), residual_stack_act, color = \"red\")\n"
   ]
  },
  {
   "cell_type": "code",
   "execution_count": null,
   "metadata": {},
   "outputs": [],
   "source": [
    "print(np.abs(residual_test_stack).sum())\n",
    "print(residual_test_stack.sort_values())\n",
    "\n",
    "print(np.abs(residual_test_stack).sum())\n",
    "residual_test_stack.sort_values()\n",
    "residual_test_stack"
   ]
  },
  {
   "cell_type": "code",
   "execution_count": null,
   "metadata": {},
   "outputs": [],
   "source": [
    "# price vs. residual plot - Train Stack in log space\n",
    "residual_train_stack = preds_train_stack - y_train_stack\n",
    "print(np.corrcoef(y_train_stack, residual_train_stack)[0,1])\n",
    "plt.scatter(y_train_stack,residual_train_stack, color = \"red\")"
   ]
  },
  {
   "cell_type": "code",
   "execution_count": null,
   "metadata": {},
   "outputs": [],
   "source": [
    "# price vs. residual plot - Train Stack in actual space\n",
    "residual_train_stack_act = np.exp(preds_train_stack) - np.exp(y_train_stack)\n",
    "print(np.corrcoef(np.exp(y_train_stack), residual_train_stack)[0,1])\n",
    "plt.scatter(np.exp(y_train_stack),residual_train_stack_act, color = \"red\")"
   ]
  },
  {
   "cell_type": "code",
   "execution_count": null,
   "metadata": {},
   "outputs": [],
   "source": [
    "pd.DataFrame({\"residual\":np.abs(preds_train_stack - y_train_stack), \"preds\":np.exp(preds_train_stack), \"test\":np.exp(y_train_stack)}).mean()"
   ]
  },
  {
   "cell_type": "code",
   "execution_count": null,
   "metadata": {},
   "outputs": [],
   "source": [
    "pd.DataFrame({\"residual\":(preds_train_stack - y_train_stack), \"preds\":np.exp(preds_train_stack), \"test\":np.exp(y_train_stack)}).sort_values(\"residual\", ascending = False).head(15)"
   ]
  },
  {
   "cell_type": "code",
   "execution_count": null,
   "metadata": {},
   "outputs": [],
   "source": [
    "# price vs. residual plot - Test Stack in log space\n",
    "residual_test_stack = preds_test_stack - y_test_stack\n",
    "print(np.corrcoef(y_test_stack, residual_test_stack)[0,1])\n",
    "plt.scatter(y_test_stack,residual_test_stack, color = \"red\")"
   ]
  },
  {
   "cell_type": "code",
   "execution_count": null,
   "metadata": {},
   "outputs": [],
   "source": [
    "# price vs. residual plot - Test Stack in actual price\n",
    "residual_test_stack_act = np.exp(preds_test_stack) - np.exp(y_test_stack)\n",
    "print(np.corrcoef(np.exp(y_test_stack), residual_test_stack)[0,1])\n",
    "plt.scatter(np.exp(y_test_stack), residual_test_stack_act, color = \"red\")"
   ]
  },
  {
   "cell_type": "code",
   "execution_count": null,
   "metadata": {},
   "outputs": [],
   "source": [
    "print(np.abs(residual_test_stack).sum())\n",
    "print(residual_test_stack.sort_values())\n",
    "\n",
    "print(np.abs(residual_test_stack_act).sum())\n",
    "residual_test_stack_act.sort_values()\n",
    "residual_test_stack_act"
   ]
  },
  {
   "cell_type": "markdown",
   "metadata": {},
   "source": [
    "## Submission"
   ]
  },
  {
   "cell_type": "code",
   "execution_count": 10,
   "metadata": {
    "scrolled": false
   },
   "outputs": [
    {
     "data": {
      "text/html": [
       "<div>\n",
       "<style scoped>\n",
       "    .dataframe tbody tr th:only-of-type {\n",
       "        vertical-align: middle;\n",
       "    }\n",
       "\n",
       "    .dataframe tbody tr th {\n",
       "        vertical-align: top;\n",
       "    }\n",
       "\n",
       "    .dataframe thead th {\n",
       "        text-align: right;\n",
       "    }\n",
       "</style>\n",
       "<table border=\"1\" class=\"dataframe\">\n",
       "  <thead>\n",
       "    <tr style=\"text-align: right;\">\n",
       "      <th></th>\n",
       "      <th>LotArea</th>\n",
       "      <th>Street</th>\n",
       "      <th>Alley</th>\n",
       "      <th>LotShape</th>\n",
       "      <th>LandSlope</th>\n",
       "      <th>YearRemodAdd</th>\n",
       "      <th>RoofMatl</th>\n",
       "      <th>MasVnrType</th>\n",
       "      <th>TotalBsmtSF</th>\n",
       "      <th>Heating</th>\n",
       "      <th>...</th>\n",
       "      <th>Zone_RH</th>\n",
       "      <th>Zone_RM</th>\n",
       "      <th>Found_BrkTil</th>\n",
       "      <th>Found_CBlock</th>\n",
       "      <th>Found_Slab</th>\n",
       "      <th>Found_Stone</th>\n",
       "      <th>Found_Wood</th>\n",
       "      <th>Contour_Bnk</th>\n",
       "      <th>Contour_HLS</th>\n",
       "      <th>Contour_Low</th>\n",
       "    </tr>\n",
       "  </thead>\n",
       "  <tbody>\n",
       "    <tr>\n",
       "      <th>0</th>\n",
       "      <td>11622</td>\n",
       "      <td>1</td>\n",
       "      <td>0.0</td>\n",
       "      <td>0</td>\n",
       "      <td>0</td>\n",
       "      <td>1961</td>\n",
       "      <td>1</td>\n",
       "      <td>0</td>\n",
       "      <td>882.0</td>\n",
       "      <td>1</td>\n",
       "      <td>...</td>\n",
       "      <td>1</td>\n",
       "      <td>0</td>\n",
       "      <td>0</td>\n",
       "      <td>1</td>\n",
       "      <td>0</td>\n",
       "      <td>0</td>\n",
       "      <td>0</td>\n",
       "      <td>0</td>\n",
       "      <td>0</td>\n",
       "      <td>0</td>\n",
       "    </tr>\n",
       "    <tr>\n",
       "      <th>1</th>\n",
       "      <td>14267</td>\n",
       "      <td>1</td>\n",
       "      <td>0.0</td>\n",
       "      <td>1</td>\n",
       "      <td>0</td>\n",
       "      <td>1958</td>\n",
       "      <td>1</td>\n",
       "      <td>1</td>\n",
       "      <td>1329.0</td>\n",
       "      <td>1</td>\n",
       "      <td>...</td>\n",
       "      <td>0</td>\n",
       "      <td>0</td>\n",
       "      <td>0</td>\n",
       "      <td>1</td>\n",
       "      <td>0</td>\n",
       "      <td>0</td>\n",
       "      <td>0</td>\n",
       "      <td>0</td>\n",
       "      <td>0</td>\n",
       "      <td>0</td>\n",
       "    </tr>\n",
       "    <tr>\n",
       "      <th>2</th>\n",
       "      <td>13830</td>\n",
       "      <td>1</td>\n",
       "      <td>0.0</td>\n",
       "      <td>1</td>\n",
       "      <td>0</td>\n",
       "      <td>1998</td>\n",
       "      <td>1</td>\n",
       "      <td>0</td>\n",
       "      <td>928.0</td>\n",
       "      <td>1</td>\n",
       "      <td>...</td>\n",
       "      <td>0</td>\n",
       "      <td>0</td>\n",
       "      <td>0</td>\n",
       "      <td>0</td>\n",
       "      <td>0</td>\n",
       "      <td>0</td>\n",
       "      <td>0</td>\n",
       "      <td>0</td>\n",
       "      <td>0</td>\n",
       "      <td>0</td>\n",
       "    </tr>\n",
       "    <tr>\n",
       "      <th>3</th>\n",
       "      <td>9978</td>\n",
       "      <td>1</td>\n",
       "      <td>0.0</td>\n",
       "      <td>1</td>\n",
       "      <td>0</td>\n",
       "      <td>1998</td>\n",
       "      <td>1</td>\n",
       "      <td>1</td>\n",
       "      <td>926.0</td>\n",
       "      <td>1</td>\n",
       "      <td>...</td>\n",
       "      <td>0</td>\n",
       "      <td>0</td>\n",
       "      <td>0</td>\n",
       "      <td>0</td>\n",
       "      <td>0</td>\n",
       "      <td>0</td>\n",
       "      <td>0</td>\n",
       "      <td>0</td>\n",
       "      <td>0</td>\n",
       "      <td>0</td>\n",
       "    </tr>\n",
       "    <tr>\n",
       "      <th>4</th>\n",
       "      <td>5005</td>\n",
       "      <td>1</td>\n",
       "      <td>0.0</td>\n",
       "      <td>1</td>\n",
       "      <td>0</td>\n",
       "      <td>1992</td>\n",
       "      <td>1</td>\n",
       "      <td>0</td>\n",
       "      <td>1280.0</td>\n",
       "      <td>1</td>\n",
       "      <td>...</td>\n",
       "      <td>0</td>\n",
       "      <td>0</td>\n",
       "      <td>0</td>\n",
       "      <td>0</td>\n",
       "      <td>0</td>\n",
       "      <td>0</td>\n",
       "      <td>0</td>\n",
       "      <td>0</td>\n",
       "      <td>1</td>\n",
       "      <td>0</td>\n",
       "    </tr>\n",
       "  </tbody>\n",
       "</table>\n",
       "<p>5 rows × 109 columns</p>\n",
       "</div>"
      ],
      "text/plain": [
       "   LotArea  Street  Alley  LotShape  LandSlope  YearRemodAdd  RoofMatl  \\\n",
       "0    11622       1    0.0         0          0          1961         1   \n",
       "1    14267       1    0.0         1          0          1958         1   \n",
       "2    13830       1    0.0         1          0          1998         1   \n",
       "3     9978       1    0.0         1          0          1998         1   \n",
       "4     5005       1    0.0         1          0          1992         1   \n",
       "\n",
       "   MasVnrType  TotalBsmtSF  Heating  ...  Zone_RH  Zone_RM  Found_BrkTil  \\\n",
       "0           0        882.0        1  ...        1        0             0   \n",
       "1           1       1329.0        1  ...        0        0             0   \n",
       "2           0        928.0        1  ...        0        0             0   \n",
       "3           1        926.0        1  ...        0        0             0   \n",
       "4           0       1280.0        1  ...        0        0             0   \n",
       "\n",
       "   Found_CBlock  Found_Slab  Found_Stone  Found_Wood  Contour_Bnk  \\\n",
       "0             1           0            0           0            0   \n",
       "1             1           0            0           0            0   \n",
       "2             0           0            0           0            0   \n",
       "3             0           0            0           0            0   \n",
       "4             0           0            0           0            0   \n",
       "\n",
       "   Contour_HLS  Contour_Low  \n",
       "0            0            0  \n",
       "1            0            0  \n",
       "2            0            0  \n",
       "3            0            0  \n",
       "4            1            0  \n",
       "\n",
       "[5 rows x 109 columns]"
      ]
     },
     "execution_count": 10,
     "metadata": {},
     "output_type": "execute_result"
    }
   ],
   "source": [
    "train_data_cleaned_test = pd.read_csv(\"data/cleaned_houseprice_test.csv\")\n",
    "test_submission = train_data_cleaned_test.drop(['Id'], axis = 1)\n",
    "test_submission.head(5)"
   ]
  },
  {
   "cell_type": "code",
   "execution_count": 12,
   "metadata": {
    "scrolled": false
   },
   "outputs": [],
   "source": [
    "# Rerun the model with full train data\n",
    "#for n in range(1,50,1):\n",
    "\n",
    "xg_cl = xgb.XGBRegressor(n_estimators = 100, learning_rate = 0.1, max_depth= 3, seed = 1, subsample = 0.9)\n",
    "xg_cl.fit(X,y)\n",
    "predict_test = xg_cl.predict(test_submission)\n",
    "\n",
    "randomForest.set_params(n_estimators=180, random_state=42, max_features=1, max_depth = 5, min_samples_leaf=4)\n",
    "randomForest.fit(np.array(preds_train_all_stack).reshape(-1,1), y)\n",
    "predict_test_stack = randomForest.predict(np.array(predict_test).reshape(-1,1))\n",
    "\n",
    "#print(n, sum(abs(predict_test_stack-predict_test)))\n",
    "\n"
   ]
  },
  {
   "cell_type": "code",
   "execution_count": null,
   "metadata": {},
   "outputs": [],
   "source": [
    "test=pd.DataFrame({\"stack\":np.exp(predict_test_stack), \"baseline\":np.exp(predict_test)})"
   ]
  },
  {
   "cell_type": "code",
   "execution_count": null,
   "metadata": {
    "scrolled": false
   },
   "outputs": [],
   "source": [
    "test[\"diff\"]=test[\"stack\"]-test['baseline']\n",
    "print(sum(test[\"diff\"]))\n",
    "print(test.sort_values(\"baseline\"))\n",
    "plt.scatter(test[\"baseline\"],test[\"diff\"])"
   ]
  },
  {
   "cell_type": "code",
   "execution_count": 13,
   "metadata": {},
   "outputs": [
    {
     "data": {
      "text/plain": [
       "array([11.75140822, 11.9827758 , 12.06197336, ..., 11.91494254,\n",
       "       11.70127596, 12.23595374])"
      ]
     },
     "execution_count": 13,
     "metadata": {},
     "output_type": "execute_result"
    }
   ],
   "source": [
    "predict_test_stack"
   ]
  },
  {
   "cell_type": "code",
   "execution_count": null,
   "metadata": {},
   "outputs": [],
   "source": [
    "\n",
    "submission_xgb = pd.DataFrame({\"Id\":train_data_cleaned_test[\"Id\"], \"SalePrice\":np.exp(predict_test_stack)})\n",
    "submission_xgb.describe()\n",
    "\n",
    "submission_xgb.to_csv(\"data/submission_xgb_stack_drop.csv\", index = False)\n",
    "\n",
    "# np.exp(predict_test)"
   ]
  },
  {
   "cell_type": "code",
   "execution_count": null,
   "metadata": {},
   "outputs": [],
   "source": [
    "submission_xgb.head()"
   ]
  },
  {
   "cell_type": "code",
   "execution_count": null,
   "metadata": {},
   "outputs": [],
   "source": []
  }
 ],
 "metadata": {
  "kernelspec": {
   "display_name": "Python 3",
   "language": "python",
   "name": "python3"
  },
  "language_info": {
   "codemirror_mode": {
    "name": "ipython",
    "version": 3
   },
   "file_extension": ".py",
   "mimetype": "text/x-python",
   "name": "python",
   "nbconvert_exporter": "python",
   "pygments_lexer": "ipython3",
   "version": "3.7.3"
  }
 },
 "nbformat": 4,
 "nbformat_minor": 2
}
