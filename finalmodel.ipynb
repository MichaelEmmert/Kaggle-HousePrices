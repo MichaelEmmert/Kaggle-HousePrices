{
 "cells": [
  {
   "cell_type": "code",
   "execution_count": 1,
   "metadata": {},
   "outputs": [],
   "source": [
    "import numpy as np\n",
    "import pandas as pd\n",
    "import xgboost as xgb\n",
    "from matplotlib import pyplot as plt\n",
    "from sklearn import linear_model\n",
    "import houseprice_functions as hpf\n",
    "from sklearn.linear_model import ElasticNetCV, ElasticNet\n",
    "from sklearn import metrics\n",
    "from sklearn import impute\n",
    "from sklearn.model_selection import GridSearchCV\n",
    "from sklearn import tree\n",
    "from sklearn import ensemble\n",
    "KNN = impute.KNNImputer\n",
    "KNN = KNN()"
   ]
  },
  {
   "cell_type": "code",
   "execution_count": 2,
   "metadata": {},
   "outputs": [],
   "source": [
    "cleaned_hp = pd.read_csv('data/cleaned_houseprice.csv')\n",
    "HousePrices = pd.read_csv('data/train.csv')\n",
    "cleaned_hp_test = pd.read_csv('data/cleaned_houseprice_test.csv')\n",
    "y = HousePrices[[\"Id\",'SalePrice']]\n",
    "x_y = cleaned_hp.merge(y,how = \"inner\",on = \"Id\")"
   ]
  },
  {
   "cell_type": "code",
   "execution_count": 3,
   "metadata": {},
   "outputs": [
    {
     "data": {
      "text/plain": [
       "(1460, 110)"
      ]
     },
     "execution_count": 3,
     "metadata": {},
     "output_type": "execute_result"
    }
   ],
   "source": [
    "cleaned_hp.shape"
   ]
  },
  {
   "cell_type": "markdown",
   "metadata": {},
   "source": [
    "# Outlier imputation"
   ]
  },
  {
   "cell_type": "code",
   "execution_count": 4,
   "metadata": {},
   "outputs": [],
   "source": [
    "train_outliers = hpf.outlier_selecter(cleaned_hp,cleaned_hp,num_sd = 4,min_unique = 20, drop_zeros = True)\n",
    "test_range = hpf.outlier_selecter(cleaned_hp,cleaned_hp,num_sd = 4,min_unique = 20, drop_zeros = True,for_test = True)"
   ]
  },
  {
   "cell_type": "markdown",
   "metadata": {},
   "source": [
    "## Train"
   ]
  },
  {
   "cell_type": "code",
   "execution_count": 5,
   "metadata": {},
   "outputs": [],
   "source": [
    "#replaces outliers with NAN\n",
    "for col, idx in train_outliers.items():\n",
    "    cleaned_hp.loc[:,col].iloc[idx] = np.nan\n",
    "    \n",
    "columns_ = cleaned_hp.columns\n",
    "cleaned_hp = KNN.fit_transform(cleaned_hp)\n",
    "cleaned_hp = pd.DataFrame(cleaned_hp,columns = columns_)"
   ]
  },
  {
   "cell_type": "markdown",
   "metadata": {},
   "source": [
    "## Test"
   ]
  },
  {
   "cell_type": "code",
   "execution_count": 6,
   "metadata": {
    "scrolled": false
   },
   "outputs": [],
   "source": [
    "#replaces outliers with NAN\n",
    "for col,low_up_sd in test_range.items():\n",
    "    outliers = cleaned_hp_test.index[cleaned_hp_test.loc[:,col].apply(lambda x: (x < low_up_sd[0]) or (x > low_up_sd[1]))].to_list()\n",
    "    if len(outliers) != 0:\n",
    "        cleaned_hp_test.loc[:,col].iloc[outliers] = np.nan\n",
    "\n",
    "columns_ = cleaned_hp_test.columns\n",
    "cleaned_hp_test = KNN.fit_transform(cleaned_hp_test)\n",
    "cleaned_hp_test = pd.DataFrame(cleaned_hp_test,columns = columns_)"
   ]
  },
  {
   "cell_type": "code",
   "execution_count": 7,
   "metadata": {},
   "outputs": [],
   "source": [
    "#TRAIN X y\n",
    "y_train = np.log(x_y['SalePrice'])\n",
    "X_train = cleaned_hp.drop([\"Id\"],axis = 1)\n",
    "#TRAIN X\n",
    "X_test = cleaned_hp_test.drop([\"Id\",'0'],axis = 1)"
   ]
  },
  {
   "cell_type": "markdown",
   "metadata": {},
   "source": [
    "# Elastic Net Model"
   ]
  },
  {
   "cell_type": "code",
   "execution_count": 8,
   "metadata": {
    "scrolled": false
   },
   "outputs": [
    {
     "name": "stdout",
     "output_type": "stream",
     "text": [
      "Train:\n",
      "\n",
      "LotArea\n",
      "2.5023009425758294\n",
      "-0.9136315930988614\n",
      "--------------------------------------------------\n",
      "LotShape\n",
      "1.309985656555955\n",
      "0.7831035648282987\n",
      "--------------------------------------------------\n",
      "LandSlope\n",
      "4.813682424489448\n",
      "4.297167061742489\n",
      "--------------------------------------------------\n",
      "GrLivArea\n",
      "0.7945580682885606\n",
      "-0.12900470046311321\n",
      "--------------------------------------------------\n",
      "EnclosedPorch\n",
      "2.8793402413491145\n",
      "2.118754318995043\n",
      "--------------------------------------------------\n",
      "Total_PorchDeckSF\n",
      "1.0106992266380932\n",
      "-0.9071782105229678\n",
      "--------------------------------------------------\n",
      "\n",
      "\n",
      "\n",
      "Test:\n",
      "\n",
      "LotArea\n",
      "2.552806435590781\n",
      "-0.9920046340781267\n",
      "--------------------------------------------------\n",
      "LotShape\n",
      "1.2042262704496145\n",
      "0.7679560899873284\n",
      "--------------------------------------------------\n",
      "LandSlope\n",
      "4.968389880056036\n",
      "4.64800252535215\n",
      "--------------------------------------------------\n",
      "GrLivArea\n",
      "0.8183697282292276\n",
      "-0.042539082761763256\n",
      "--------------------------------------------------\n",
      "Fireplaces\n",
      "0.8198582704555165\n",
      "0.29412900401924885\n",
      "--------------------------------------------------\n",
      "EnclosedPorch\n",
      "2.951827718959102\n",
      "1.8226276994027943\n",
      "--------------------------------------------------\n",
      "Total_PorchDeckSF\n",
      "1.010585450619311\n",
      "-0.9460523587305861\n",
      "--------------------------------------------------\n"
     ]
    }
   ],
   "source": [
    "print(\"Train:\\n\")\n",
    "for col in X_train.columns:\n",
    "    if (X_train[col].nunique() != 2) and (X_train[col].skew() > 0.75):\n",
    "        print(col)\n",
    "        print(X_train[col].skew())\n",
    "        X_train[col] = np.log1p(X_train[col])\n",
    "        print(X_train[col].skew())\n",
    "        print('-'*50)\n",
    "\n",
    "print(\"\\n\\n\\nTest:\\n\")\n",
    "for col in X_test.columns:\n",
    "    if (X_test[col].nunique() != 2) and (X_test[col].skew() > 0.75):\n",
    "        print(col)\n",
    "        print(X_test[col].skew())\n",
    "        X_test[col] = np.log1p(X_test[col])\n",
    "        print(X_test[col].skew())\n",
    "        print('-'*50)"
   ]
  },
  {
   "cell_type": "code",
   "execution_count": 9,
   "metadata": {
    "scrolled": true
   },
   "outputs": [
    {
     "name": "stdout",
     "output_type": "stream",
     "text": [
      "Full Model RMSE: 0.1149195503876102\n",
      "Full model R2: 0.9171759454923877\n"
     ]
    }
   ],
   "source": [
    "#Model Training\n",
    "en_model = ElasticNetCV(l1_ratio=[0.5,0.6,0.65,0.7,0.75],n_alphas = 720, eps=1e-4, fit_intercept=True, \n",
    "                        normalize=True, precompute='auto', max_iter=2000, tol=0.0001, cv=10, \n",
    "                        copy_X=True, verbose=0, n_jobs=-1, positive=False, random_state=1)\n",
    "\n",
    "full_model = en_model.fit(X_train, y_train)\n",
    "y_pred = full_model.predict(X_train)\n",
    "print(\"Full Model RMSE:\",np.sqrt(metrics.mean_squared_error(y_pred, y_train)))\n",
    "print(\"Full model R2:\",full_model.score(X_train,y_train))"
   ]
  },
  {
   "cell_type": "code",
   "execution_count": 10,
   "metadata": {
    "scrolled": false
   },
   "outputs": [
    {
     "data": {
      "text/html": [
       "<div>\n",
       "<style scoped>\n",
       "    .dataframe tbody tr th:only-of-type {\n",
       "        vertical-align: middle;\n",
       "    }\n",
       "\n",
       "    .dataframe tbody tr th {\n",
       "        vertical-align: top;\n",
       "    }\n",
       "\n",
       "    .dataframe thead th {\n",
       "        text-align: right;\n",
       "    }\n",
       "</style>\n",
       "<table border=\"1\" class=\"dataframe\">\n",
       "  <thead>\n",
       "    <tr style=\"text-align: right;\">\n",
       "      <th></th>\n",
       "      <th>Id</th>\n",
       "      <th>SalePrice</th>\n",
       "    </tr>\n",
       "  </thead>\n",
       "  <tbody>\n",
       "    <tr>\n",
       "      <th>0</th>\n",
       "      <td>1461</td>\n",
       "      <td>124396.933843</td>\n",
       "    </tr>\n",
       "    <tr>\n",
       "      <th>1</th>\n",
       "      <td>1462</td>\n",
       "      <td>156662.899057</td>\n",
       "    </tr>\n",
       "    <tr>\n",
       "      <th>2</th>\n",
       "      <td>1463</td>\n",
       "      <td>176943.845714</td>\n",
       "    </tr>\n",
       "    <tr>\n",
       "      <th>3</th>\n",
       "      <td>1464</td>\n",
       "      <td>195490.709857</td>\n",
       "    </tr>\n",
       "    <tr>\n",
       "      <th>4</th>\n",
       "      <td>1465</td>\n",
       "      <td>203327.466246</td>\n",
       "    </tr>\n",
       "    <tr>\n",
       "      <th>5</th>\n",
       "      <td>1466</td>\n",
       "      <td>166876.792797</td>\n",
       "    </tr>\n",
       "    <tr>\n",
       "      <th>6</th>\n",
       "      <td>1467</td>\n",
       "      <td>175150.285114</td>\n",
       "    </tr>\n",
       "    <tr>\n",
       "      <th>7</th>\n",
       "      <td>1468</td>\n",
       "      <td>160157.028900</td>\n",
       "    </tr>\n",
       "    <tr>\n",
       "      <th>8</th>\n",
       "      <td>1469</td>\n",
       "      <td>190776.115748</td>\n",
       "    </tr>\n",
       "    <tr>\n",
       "      <th>9</th>\n",
       "      <td>1470</td>\n",
       "      <td>116747.628951</td>\n",
       "    </tr>\n",
       "  </tbody>\n",
       "</table>\n",
       "</div>"
      ],
      "text/plain": [
       "     Id      SalePrice\n",
       "0  1461  124396.933843\n",
       "1  1462  156662.899057\n",
       "2  1463  176943.845714\n",
       "3  1464  195490.709857\n",
       "4  1465  203327.466246\n",
       "5  1466  166876.792797\n",
       "6  1467  175150.285114\n",
       "7  1468  160157.028900\n",
       "8  1469  190776.115748\n",
       "9  1470  116747.628951"
      ]
     },
     "execution_count": 10,
     "metadata": {},
     "output_type": "execute_result"
    }
   ],
   "source": [
    "y_test = np.exp(full_model.predict(X_test))\n",
    "elasticnet_prices = pd.DataFrame(zip(cleaned_hp_test.Id.astype(int),y_test),columns = [\"Id\",\"SalePrice\"])\n",
    "elasticnet_prices.head(10)"
   ]
  },
  {
   "cell_type": "markdown",
   "metadata": {},
   "source": [
    "---"
   ]
  },
  {
   "cell_type": "markdown",
   "metadata": {},
   "source": [
    "# XGBoost Model"
   ]
  },
  {
   "cell_type": "code",
   "execution_count": 11,
   "metadata": {},
   "outputs": [],
   "source": [
    "cleaned_hp = pd.read_csv('data/cleaned_houseprice.csv')\n",
    "HousePrices = pd.read_csv('data/train.csv')\n",
    "cleaned_hp_test = pd.read_csv('data/cleaned_houseprice_test.csv')\n",
    "y = HousePrices[[\"Id\",'SalePrice']]\n",
    "x_y = cleaned_hp.merge(y,how = \"inner\",on = \"Id\")"
   ]
  },
  {
   "cell_type": "code",
   "execution_count": 12,
   "metadata": {},
   "outputs": [],
   "source": [
    "train_outliers = hpf.outlier_selecter(cleaned_hp,cleaned_hp,num_sd = 4,min_unique = 20, drop_zeros = True)\n",
    "test_range = hpf.outlier_selecter(cleaned_hp,cleaned_hp,num_sd = 4,min_unique = 20, drop_zeros = True,for_test = True)"
   ]
  },
  {
   "cell_type": "code",
   "execution_count": 13,
   "metadata": {},
   "outputs": [],
   "source": [
    "#replaces outliers with NAN\n",
    "for col, idx in train_outliers.items():\n",
    "    cleaned_hp.loc[:,col].iloc[idx] = np.nan\n",
    "    \n",
    "columns_ = cleaned_hp.columns\n",
    "cleaned_hp = KNN.fit_transform(cleaned_hp)\n",
    "cleaned_hp = pd.DataFrame(cleaned_hp,columns = columns_)"
   ]
  },
  {
   "cell_type": "code",
   "execution_count": 14,
   "metadata": {},
   "outputs": [],
   "source": [
    "#replaces outliers with NAN\n",
    "for col,low_up_sd in test_range.items():\n",
    "    outliers = cleaned_hp_test.index[cleaned_hp_test.loc[:,col].apply(lambda x: (x < low_up_sd[0]) or (x > low_up_sd[1]))].to_list()\n",
    "    if len(outliers) != 0:\n",
    "        cleaned_hp_test.loc[:,col].iloc[outliers] = np.nan\n",
    "\n",
    "columns_ = cleaned_hp_test.columns\n",
    "cleaned_hp_test = KNN.fit_transform(cleaned_hp_test)\n",
    "cleaned_hp_test = pd.DataFrame(cleaned_hp_test,columns = columns_)"
   ]
  },
  {
   "cell_type": "code",
   "execution_count": 15,
   "metadata": {},
   "outputs": [],
   "source": [
    "#TRAIN X y\n",
    "y_train = np.log(x_y['SalePrice'])\n",
    "cleaned_hp['TotalSF'] = cleaned_hp.TotalBsmtSF + cleaned_hp.GrLivArea\n",
    "X_train = cleaned_hp.drop([\"Id\"],axis = 1)\n",
    "cleaned_hp_test['TotalSF'] = cleaned_hp_test.TotalBsmtSF + cleaned_hp_test.GrLivArea\n",
    "#TRAIN X\n",
    "X_test = cleaned_hp_test.drop([\"Id\",'0'],axis = 1)"
   ]
  },
  {
   "cell_type": "code",
   "execution_count": 16,
   "metadata": {},
   "outputs": [],
   "source": [
    "randomForest = ensemble.RandomForestRegressor()\n",
    "xg_cl = xgb.XGBRegressor(n_estimators = 100, learning_rate = 0.1, max_depth= 3, seed = 1, subsample = 0.9)\n",
    "xg_cl.fit(X_train,y_train)\n",
    "predict_test = xg_cl.predict(X_test)\n",
    "preds_train_all_stack = xg_cl.predict(X_train)\n",
    "\n",
    "randomForest.set_params(n_estimators=180, random_state=42, max_features=1, max_depth = 5, min_samples_leaf=4)\n",
    "randomForest.fit(np.array(preds_train_all_stack).reshape(-1,1), y_train)\n",
    "predict_test_stack = randomForest.predict(np.array(predict_test).reshape(-1,1))"
   ]
  },
  {
   "cell_type": "code",
   "execution_count": 17,
   "metadata": {
    "scrolled": true
   },
   "outputs": [
    {
     "data": {
      "text/html": [
       "<div>\n",
       "<style scoped>\n",
       "    .dataframe tbody tr th:only-of-type {\n",
       "        vertical-align: middle;\n",
       "    }\n",
       "\n",
       "    .dataframe tbody tr th {\n",
       "        vertical-align: top;\n",
       "    }\n",
       "\n",
       "    .dataframe thead th {\n",
       "        text-align: right;\n",
       "    }\n",
       "</style>\n",
       "<table border=\"1\" class=\"dataframe\">\n",
       "  <thead>\n",
       "    <tr style=\"text-align: right;\">\n",
       "      <th></th>\n",
       "      <th>Id</th>\n",
       "      <th>SalePrice</th>\n",
       "    </tr>\n",
       "  </thead>\n",
       "  <tbody>\n",
       "    <tr>\n",
       "      <th>0</th>\n",
       "      <td>1461</td>\n",
       "      <td>127969.614729</td>\n",
       "    </tr>\n",
       "    <tr>\n",
       "      <th>1</th>\n",
       "      <td>1462</td>\n",
       "      <td>162764.534717</td>\n",
       "    </tr>\n",
       "    <tr>\n",
       "      <th>2</th>\n",
       "      <td>1463</td>\n",
       "      <td>178237.925324</td>\n",
       "    </tr>\n",
       "    <tr>\n",
       "      <th>3</th>\n",
       "      <td>1464</td>\n",
       "      <td>181226.988226</td>\n",
       "    </tr>\n",
       "    <tr>\n",
       "      <th>4</th>\n",
       "      <td>1465</td>\n",
       "      <td>183564.910836</td>\n",
       "    </tr>\n",
       "  </tbody>\n",
       "</table>\n",
       "</div>"
      ],
      "text/plain": [
       "     Id      SalePrice\n",
       "0  1461  127969.614729\n",
       "1  1462  162764.534717\n",
       "2  1463  178237.925324\n",
       "3  1464  181226.988226\n",
       "4  1465  183564.910836"
      ]
     },
     "execution_count": 17,
     "metadata": {},
     "output_type": "execute_result"
    }
   ],
   "source": [
    "xgboost_prices = pd.DataFrame(zip(cleaned_hp_test.Id.astype(int),np.exp(predict_test_stack)),columns = [\"Id\",\"SalePrice\"])\n",
    "xgboost_prices.head()"
   ]
  },
  {
   "cell_type": "markdown",
   "metadata": {},
   "source": [
    "---"
   ]
  },
  {
   "cell_type": "markdown",
   "metadata": {},
   "source": [
    "# Model ensembling"
   ]
  },
  {
   "cell_type": "code",
   "execution_count": 18,
   "metadata": {},
   "outputs": [],
   "source": [
    "elasticnet_prices.SalePrice = (xgboost_prices.SalePrice + elasticnet_prices.SalePrice)/2"
   ]
  },
  {
   "cell_type": "code",
   "execution_count": 19,
   "metadata": {},
   "outputs": [],
   "source": [
    "test_submission = elasticnet_prices.to_csv('data/submission.csv',index = False)"
   ]
  },
  {
   "cell_type": "markdown",
   "metadata": {},
   "source": [
    "---"
   ]
  }
 ],
 "metadata": {
  "kernelspec": {
   "display_name": "Python 3",
   "language": "python",
   "name": "python3"
  },
  "language_info": {
   "codemirror_mode": {
    "name": "ipython",
    "version": 3
   },
   "file_extension": ".py",
   "mimetype": "text/x-python",
   "name": "python",
   "nbconvert_exporter": "python",
   "pygments_lexer": "ipython3",
   "version": "3.7.3"
  }
 },
 "nbformat": 4,
 "nbformat_minor": 2
}
